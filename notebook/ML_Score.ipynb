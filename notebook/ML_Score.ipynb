{
 "cells": [
  {
   "cell_type": "markdown",
   "metadata": {},
   "source": [
    "# Importando bibliotecas e configurando ambiente"
   ]
  },
  {
   "cell_type": "code",
   "execution_count": null,
   "metadata": {
    "ExecuteTime": {
     "end_time": "2024-09-16T19:00:51.895721Z",
     "start_time": "2024-09-16T19:00:51.596678Z"
    },
    "application/vnd.databricks.v1+cell": {
     "cellMetadata": {
      "byteLimit": 2048000,
      "rowLimit": 10000
     },
     "inputWidgets": {},
     "nuid": "7961b089-86b3-4749-823f-bb32c9eaa8f7",
     "showTitle": false,
     "title": ""
    }
   },
   "outputs": [],
   "source": [
    "# PySpark SQL\n",
    "from pyspark.sql import SparkSession\n",
    "from pyspark.sql.functions import col, sum, when, isnan, regexp_replace, round as spark_round\n",
    "from pyspark.sql.types import StringType, IntegerType, FloatType, DecimalType\n",
    "\n",
    "# Pacotes para Machine Learning com PySpark\n",
    "from pyspark.ml.feature import VectorAssembler, StringIndexer   # Para montar features\n",
    "from pyspark.ml.classification import DecisionTreeClassifier  # Algoritmo de regressão logística\n",
    "from pyspark.ml.evaluation import MulticlassClassificationEvaluator  # Avaliação de performance\n",
    "from pyspark.ml.tuning import ParamGridBuilder, CrossValidator   # Validação cruzada e ajuste de parâmetros\n",
    "\n",
    "#Bibliotecas do Python\n",
    "import pandas as pd\n",
    "import plotly.express as px\n",
    "import plotly.graph_objects as go\n",
    "from scipy import stats\n",
    "import numpy as np\n",
    "\n",
    "# Criar uma nova sessão do Spark fora do ambiente Databricks\n",
    "spark = SparkSession.builder \\\n",
    "    .appName(\"ML Score\") \\\n",
    "    .master(\"local[*]\") \\\n",
    "    .getOrCreate()\n",
    "\n",
    "\n",
    "data = spark.read.format(\"csv\") \\\n",
    "    .option(\"header\", \"true\") \\\n",
    "    .option(\"inferSchema\", \"true\") \\\n",
    "    .load(\"dataset_credito.csv\")\n",
    "\n",
    "\n",
    "df= data"
   ]
  },
  {
   "cell_type": "markdown",
   "metadata": {},
   "source": [
    "# Funções"
   ]
  },
  {
   "cell_type": "code",
   "execution_count": null,
   "metadata": {
    "ExecuteTime": {
     "end_time": "2024-09-16T19:00:11.241884Z",
     "start_time": "2024-09-16T19:00:11.227751Z"
    }
   },
   "outputs": [],
   "source": [
    "def remove_outlier(df, column, rm_out=False):\n",
    "    # Obtem os quartis com precisão\n",
    "    summary_stats = df.select(column).summary(\"25%\", \"75%\").toPandas()\n",
    "    Q1 = float(summary_stats[summary_stats['summary'] == '25%'][column])\n",
    "    Q3 = float(summary_stats[summary_stats['summary'] == '75%'][column])\n",
    "    \n",
    "    # Intervalo Interquartil\n",
    "    IQR = Q3 - Q1\n",
    "    \n",
    "    # Limites superior e inferior\n",
    "    lower_bound = Q1 - 1.5 * IQR\n",
    "    upper_bound = Q3 + 1.5 * IQR\n",
    "    \n",
    "    # Filtrar sem outliers\n",
    "    df_no_outliers = df.filter((col(column) >= lower_bound) & (col(column) <= upper_bound))\n",
    "    \n",
    "    # Contar número de outliers\n",
    "    outliers = df.count() - df_no_outliers.count()\n",
    "    \n",
    "    # Se rm_out for True, retornar DataFrame sem outliers\n",
    "    if rm_out:\n",
    "        return (outliers, df_no_outliers)\n",
    "    else:\n",
    "        return outliers\n",
    "    \n",
    "    \n",
    "def numerization(df, column):\n",
    "    column_indexered = StringIndexer(inputCol=f\"{column}\", outputCol=f\"{column}_indexered\")\n",
    "\n",
    "    df_indexered = column_indexered.fit(df).transform(df)\n",
    "    \n",
    "    return df_indexered"
   ]
  },
  {
   "cell_type": "markdown",
   "metadata": {},
   "source": [
    "# Tratando os dados"
   ]
  },
  {
   "cell_type": "code",
   "execution_count": null,
   "metadata": {
    "ExecuteTime": {
     "end_time": "2024-09-16T18:59:35.478062Z",
     "start_time": "2024-09-16T18:59:35.154750Z"
    }
   },
   "outputs": [],
   "source": [
    "df.sample(withReplacement=False, fraction=0.1).limit(5).toPandas()"
   ]
  },
  {
   "cell_type": "code",
   "execution_count": null,
   "metadata": {
    "ExecuteTime": {
     "end_time": "2024-09-16T18:59:36.683884Z",
     "start_time": "2024-09-16T18:59:36.672813Z"
    }
   },
   "outputs": [],
   "source": [
    "df.printSchema()"
   ]
  },
  {
   "cell_type": "markdown",
   "metadata": {},
   "source": [
    "<center> <ins>Tratar e converter dados numéricos para o tipo apropriado<ins/> <center/>"
   ]
  },
  {
   "cell_type": "code",
   "execution_count": null,
   "metadata": {
    "ExecuteTime": {
     "end_time": "2024-09-16T18:59:37.998685Z",
     "start_time": "2024-09-16T18:59:37.821211Z"
    }
   },
   "outputs": [],
   "source": [
    "# Converter strings de valores monetários para FloatType\n",
    "df = df \\\n",
    "    .withColumn(\n",
    "        \"valor_transacoes_12m\", \n",
    "        regexp_replace(regexp_replace(col(\"valor_transacoes_12m\"), \"\\\\.\", \"\"), \",\", \".\").cast(FloatType())\n",
    "    ) \\\n",
    "    .withColumn(\n",
    "        \"limite_credito\", \n",
    "        regexp_replace(regexp_replace(col(\"limite_credito\"), \"\\\\.\", \"\"), \",\", \".\").cast(FloatType())\n",
    ")"
   ]
  },
  {
   "cell_type": "code",
   "execution_count": null,
   "metadata": {
    "ExecuteTime": {
     "end_time": "2024-09-16T18:59:38.443275Z",
     "start_time": "2024-09-16T18:59:38.436886Z"
    }
   },
   "outputs": [],
   "source": [
    "df.printSchema()"
   ]
  },
  {
   "cell_type": "markdown",
   "metadata": {},
   "source": [
    "<center> <ins> Conferindo valores nulos ou NaN <ins/> <center/>"
   ]
  },
  {
   "cell_type": "code",
   "execution_count": null,
   "metadata": {
    "ExecuteTime": {
     "end_time": "2024-09-16T18:59:40.892132Z",
     "start_time": "2024-09-16T18:59:39.612368Z"
    }
   },
   "outputs": [],
   "source": [
    "df.select([sum(when(col(c).isNull() | isnan(c), 1).otherwise(0)).alias(c) for c in df.columns]).toPandas()"
   ]
  },
  {
   "cell_type": "markdown",
   "metadata": {},
   "source": [
    "<center> <ins> Retirando os valores \"na\" <ins/> <center/>"
   ]
  },
  {
   "cell_type": "code",
   "execution_count": null,
   "metadata": {
    "ExecuteTime": {
     "end_time": "2024-09-16T18:59:43.449579Z",
     "start_time": "2024-09-16T18:59:41.727814Z"
    }
   },
   "outputs": [],
   "source": [
    "for x in df.columns:\n",
    "    print(f\"{x}  -  {df.filter(col(x) == \"na\").count()}\")"
   ]
  },
  {
   "cell_type": "code",
   "execution_count": null,
   "metadata": {
    "ExecuteTime": {
     "end_time": "2024-09-16T18:59:46.921173Z",
     "start_time": "2024-09-16T18:59:46.841322Z"
    }
   },
   "outputs": [],
   "source": [
    "# Trocando os valores \"na\" para \"Desconhecido\"\n",
    "for column in [\"escolaridade\", \"estado_civil\", \"salario_anual\"]:\n",
    "    df = df.withColumn(column, when(col(column) == \"na\", \"Desconhecido\").otherwise(col(column)))"
   ]
  },
  {
   "cell_type": "code",
   "execution_count": null,
   "metadata": {
    "ExecuteTime": {
     "end_time": "2024-09-16T18:59:48.849664Z",
     "start_time": "2024-09-16T18:59:47.485878Z"
    }
   },
   "outputs": [],
   "source": [
    "for x in df.columns:\n",
    "    print(f\"{x}  ->  {df.filter(col(x) == \"na\").count()}\")"
   ]
  },
  {
   "cell_type": "markdown",
   "metadata": {},
   "source": [
    "# Teste de normalidade"
   ]
  },
  {
   "cell_type": "markdown",
   "metadata": {},
   "source": [
    "## Teste de Lilliefors (Kolmogorov-Smirnov)"
   ]
  },
  {
   "cell_type": "code",
   "execution_count": null,
   "metadata": {
    "ExecuteTime": {
     "end_time": "2024-09-16T19:00:18.747759Z",
     "start_time": "2024-09-16T19:00:17.437166Z"
    }
   },
   "outputs": [],
   "source": [
    "df_KS = remove_outlier(df, \"limite_credito\", rm_out=True)[1]\n",
    "df_KS = remove_outlier(df, \"valor_transacoes_12m\", rm_out=True)[1]"
   ]
  },
  {
   "cell_type": "code",
   "execution_count": null,
   "metadata": {
    "ExecuteTime": {
     "end_time": "2024-09-16T19:00:23.030902Z",
     "start_time": "2024-09-16T19:00:22.546932Z"
    }
   },
   "outputs": [],
   "source": [
    "data = df_KS.select(\"limite_credito\", \"valor_transacoes_12m\").toPandas()\n",
    "\n",
    "for column in data.columns:\n",
    "    values = data[column].dropna()\n",
    "    \n",
    "    # Parâmetros da distribuição normal teórica\n",
    "    mu, std = np.mean(values), np.std(values)\n",
    "    \n",
    "    # Criar a distribuição normal teórica\n",
    "    normal_dist = stats.norm(mu, std).cdf(values)\n",
    "    \n",
    "    # Aplicar o teste Kolmogorov-Smirnov\n",
    "    stat, p_value = stats.kstest(values, lambda x: stats.norm.cdf(x, mu, std))\n",
    "\n",
    "    # Exibir os resultados formatados\n",
    "    print(\"###############################\")\n",
    "    print(f\"Variável: {column}\")\n",
    "    print(f\"Estatística K-S: {stat}\")\n",
    "    print(f\"P-valor: {p_value}\")\n",
    "    \n",
    "    if p_value > 0.05:\n",
    "        print(\"Interpretação: A hipótese de normalidade é aceita.\")\n",
    "    else:\n",
    "        print(\"Interpretação: A hipótese de normalidade é rejeitada.\")\n",
    "    \n",
    "    print(\"###############################\\n\")\n",
    "    "
   ]
  },
  {
   "cell_type": "markdown",
   "metadata": {},
   "source": [
    "# DecisionTree"
   ]
  },
  {
   "cell_type": "code",
   "execution_count": null,
   "metadata": {
    "ExecuteTime": {
     "end_time": "2024-09-16T19:00:32.782628Z",
     "start_time": "2024-09-16T19:00:28.207356Z"
    }
   },
   "outputs": [],
   "source": [
    "# Numerizando os valores categóricos\n",
    "for column in df.columns[4:9]:\n",
    "    df = numerization(df, column)\n",
    "\n",
    "# Isolamento dos dados que serão utilizados como vetor\n",
    "columns = [\n",
    "     'default',\n",
    "     'dependentes_indexered',\n",
    "     'escolaridade_indexered',\n",
    "     'estado_civil_indexered',\n",
    "     'salario_anual_indexered',\n",
    "     'tipo_cartao_indexered',\n",
    "     'meses_de_relacionamento',\n",
    "     'qtd_produtos',\n",
    "     'iteracoes_12m',\n",
    "     'meses_inativo_12m',\n",
    "     'limite_credito',\n",
    "     'valor_transacoes_12m',\n",
    "     'qtd_transacoes_12m'\n",
    "]\n",
    "\n",
    "df_Vector = df.select(columns)\n",
    "\n",
    "# Criando o vetor das colunas\n",
    "assembler = VectorAssembler(inputCols=columns, outputCol=\"vector\")\n",
    "\n",
    "# Aplicando ao df isolado\n",
    "df_Vector = assembler.transform(df_Vector)\n",
    "# df_Vector.select(\"vector\", \"default\").show(truncate=True) <- vizualização\n",
    "\n",
    "# Separação do conjunto de treino para o de teste\n",
    "train_data, test_data = df_Vector.randomSplit([0.7, 0.3], seed=42)\n",
    "# train_data.select(\"vector\", \"default\").s\"how(5, truncate=False)  <- vizualização\n",
    "\n",
    "# Treinando o modelo\n",
    "dt = DecisionTreeClassifier(labelCol=\"default\", featuresCol=\"vector\")\n",
    "\n",
    "dt_model = dt.fit(train_data)\n",
    "\n",
    "prediction = dt_model.transform(test_data)\n",
    "\n",
    "prediction.select(\"vector\", \"default\", \"prediction\").show()"
   ]
  },
  {
   "cell_type": "code",
   "execution_count": null,
   "metadata": {
    "ExecuteTime": {
     "end_time": "2024-09-16T19:00:36.963351Z",
     "start_time": "2024-09-16T19:00:36.487694Z"
    }
   },
   "outputs": [],
   "source": [
    "# Avaliação do Modelo\n",
    "evalutator = MulticlassClassificationEvaluator(\n",
    "    labelCol=\"default\", predictionCol=\"prediction\", metricName=\"accuracy\"\n",
    ")\n",
    "\n",
    "accuracy = evalutator.evaluate(prediction)\n",
    "print(f\"Acurácia do Modelo: {accuracy}\")"
   ]
  },
  {
   "cell_type": "code",
   "execution_count": null,
   "metadata": {},
   "outputs": [],
   "source": []
  }
 ],
 "metadata": {
  "application/vnd.databricks.v1+notebook": {
   "dashboards": [],
   "environmentMetadata": null,
   "language": "python",
   "notebookMetadata": {
    "pythonIndentUnit": 4
   },
   "notebookName": "ML Score",
   "widgets": {}
  },
  "hide_input": false,
  "kernelspec": {
   "display_name": "Kernel do AV",
   "language": "python",
   "name": "credit_api"
  },
  "language_info": {
   "codemirror_mode": {
    "name": "ipython",
    "version": 3
   },
   "file_extension": ".py",
   "mimetype": "text/x-python",
   "name": "python",
   "nbconvert_exporter": "python",
   "pygments_lexer": "ipython3",
   "version": "3.12.3"
  },
  "toc": {
   "base_numbering": 1,
   "nav_menu": {},
   "number_sections": true,
   "sideBar": true,
   "skip_h1_title": false,
   "title_cell": "Table of Contents",
   "title_sidebar": "Contents",
   "toc_cell": false,
   "toc_position": {},
   "toc_section_display": true,
   "toc_window_display": false
  },
  "varInspector": {
   "cols": {
    "lenName": 16,
    "lenType": 16,
    "lenVar": 40
   },
   "kernels_config": {
    "python": {
     "delete_cmd_postfix": "",
     "delete_cmd_prefix": "del ",
     "library": "var_list.py",
     "varRefreshCmd": "print(var_dic_list())"
    },
    "r": {
     "delete_cmd_postfix": ") ",
     "delete_cmd_prefix": "rm(",
     "library": "var_list.r",
     "varRefreshCmd": "cat(var_dic_list()) "
    }
   },
   "types_to_exclude": [
    "module",
    "function",
    "builtin_function_or_method",
    "instance",
    "_Feature"
   ],
   "window_display": false
  }
 },
 "nbformat": 4,
 "nbformat_minor": 1
}
